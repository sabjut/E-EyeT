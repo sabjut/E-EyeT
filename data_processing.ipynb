{
 "cells": [
  {
   "cell_type": "code",
   "execution_count": 2,
   "id": "initial_id",
   "metadata": {
    "collapsed": true,
    "ExecuteTime": {
     "end_time": "2023-11-11T14:11:09.198190Z",
     "start_time": "2023-11-11T14:10:13.231038Z"
    }
   },
   "outputs": [],
   "source": [
    "import mappers\n",
    "\n",
    "list_of_directories = ['data/pixie/Indoor/Participant_1/', 'data/pixie/Indoor/Participant_2/',\n",
    "                       'data/pixie/Indoor/Participant_3/', 'data/pixie/Driving/Participant_1/', 'data/pixie/Driving/Participant_1_round2/', 'data/pixie/Driving/Participant_3/', 'data/pixie/Walking/Participant_1/', 'data/pixie/Walking/Participant_2/', 'data/pixie/Walking/Participant_3/']\n",
    "\n",
    "for ele in list_of_directories:\n",
    "    name = ele.split('/')[2] + '_' + ele.split('/')[3]\n",
    "    aef_df = mappers.fetch_full_aef_df(ele)\n",
    "    aef_df.to_csv('sensor_data/' + name + '.csv', index=False)\n",
    "    "
   ]
  },
  {
   "cell_type": "code",
   "execution_count": null,
   "outputs": [],
   "source": [],
   "metadata": {
    "collapsed": false
   },
   "id": "bd7de5a281feea4f"
  }
 ],
 "metadata": {
  "kernelspec": {
   "display_name": "Python 3",
   "language": "python",
   "name": "python3"
  },
  "language_info": {
   "codemirror_mode": {
    "name": "ipython",
    "version": 2
   },
   "file_extension": ".py",
   "mimetype": "text/x-python",
   "name": "python",
   "nbconvert_exporter": "python",
   "pygments_lexer": "ipython2",
   "version": "2.7.6"
  }
 },
 "nbformat": 4,
 "nbformat_minor": 5
}
