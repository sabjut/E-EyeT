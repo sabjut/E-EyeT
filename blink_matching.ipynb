{
 "cells": [
  {
   "cell_type": "code",
   "execution_count": 44,
   "id": "initial_id",
   "metadata": {
    "collapsed": true,
    "ExecuteTime": {
     "end_time": "2023-11-11T12:57:41.042956700Z",
     "start_time": "2023-11-11T12:57:34.247039600Z"
    }
   },
   "outputs": [],
   "source": [
    "import mappers\n",
    "import pandas as pd\n",
    "import numpy as np\n",
    "\n",
    "prefix = 'AFE'\n",
    "directory_path = 'data/pixie/Driving/Participant_1/'\n",
    "\n",
    "df = mappers.fetch_full_aef_df(directory_path)\n"
   ]
  },
  {
   "cell_type": "code",
   "execution_count": 45,
   "outputs": [
    {
     "name": "stdout",
     "output_type": "stream",
     "text": [
      "Total time:  0 days 00:16:22.948029\n"
     ]
    }
   ],
   "source": [
    "df['datetime_left'] = pd.to_datetime(df['afe_left_timestamp'], unit='us')\n",
    "\n",
    "print(\"Total time: \", df['datetime_left'].iloc[-1] - df['datetime_left'].iloc[0])\n",
    "df['diff_left'] = df['datetime_left'].diff()\n",
    "first_obs = df['datetime_left'].iloc[0]\n",
    "df['prog_left'] = df['datetime_left'] - first_obs\n",
    "\n",
    "blinks = df[df['blinks_left_peakTime'].notna()]\n",
    "\n",
    "sample = pd.read_csv('data-labeler/Participant_2-Indoor-720p.csv', names=['Label', 'seconds'])\n"
   ],
   "metadata": {
    "collapsed": false,
    "ExecuteTime": {
     "end_time": "2023-11-11T12:57:44.804782Z",
     "start_time": "2023-11-11T12:57:44.757474200Z"
    }
   },
   "id": "bf06c8547c4180ae"
  },
  {
   "cell_type": "code",
   "execution_count": 47,
   "outputs": [
    {
     "ename": "KeyboardInterrupt",
     "evalue": "",
     "output_type": "error",
     "traceback": [
      "\u001B[1;31m---------------------------------------------------------------------------\u001B[0m",
      "\u001B[1;31mKeyboardInterrupt\u001B[0m                         Traceback (most recent call last)",
      "Cell \u001B[1;32mIn[47], line 21\u001B[0m\n\u001B[0;32m     18\u001B[0m     square_dif \u001B[38;5;241m=\u001B[39m \u001B[38;5;28msum\u001B[39m(min_distances)\n\u001B[0;32m     19\u001B[0m     differences[i] \u001B[38;5;241m=\u001B[39m square_dif\n\u001B[1;32m---> 21\u001B[0m \u001B[38;5;28;43mprint\u001B[39;49m(\u001B[38;5;124m\"\u001B[39m\u001B[38;5;124m...\u001B[39m\u001B[38;5;124m\"\u001B[39m)\n",
      "Cell \u001B[1;32mIn[47], line 21\u001B[0m\n\u001B[0;32m     18\u001B[0m     square_dif \u001B[38;5;241m=\u001B[39m \u001B[38;5;28msum\u001B[39m(min_distances)\n\u001B[0;32m     19\u001B[0m     differences[i] \u001B[38;5;241m=\u001B[39m square_dif\n\u001B[1;32m---> 21\u001B[0m \u001B[38;5;28;43mprint\u001B[39;49m(\u001B[38;5;124m\"\u001B[39m\u001B[38;5;124m...\u001B[39m\u001B[38;5;124m\"\u001B[39m)\n",
      "File \u001B[1;32m_pydevd_bundle\\pydevd_cython_win32_39_64.pyx:1179\u001B[0m, in \u001B[0;36m_pydevd_bundle.pydevd_cython_win32_39_64.SafeCallWrapper.__call__\u001B[1;34m()\u001B[0m\n",
      "File \u001B[1;32m_pydevd_bundle\\pydevd_cython_win32_39_64.pyx:620\u001B[0m, in \u001B[0;36m_pydevd_bundle.pydevd_cython_win32_39_64.PyDBFrame.trace_dispatch\u001B[1;34m()\u001B[0m\n",
      "File \u001B[1;32m_pydevd_bundle\\pydevd_cython_win32_39_64.pyx:929\u001B[0m, in \u001B[0;36m_pydevd_bundle.pydevd_cython_win32_39_64.PyDBFrame.trace_dispatch\u001B[1;34m()\u001B[0m\n",
      "File \u001B[1;32m_pydevd_bundle\\pydevd_cython_win32_39_64.pyx:920\u001B[0m, in \u001B[0;36m_pydevd_bundle.pydevd_cython_win32_39_64.PyDBFrame.trace_dispatch\u001B[1;34m()\u001B[0m\n",
      "File \u001B[1;32m_pydevd_bundle\\pydevd_cython_win32_39_64.pyx:317\u001B[0m, in \u001B[0;36m_pydevd_bundle.pydevd_cython_win32_39_64.PyDBFrame.do_wait_suspend\u001B[1;34m()\u001B[0m\n",
      "File \u001B[1;32mC:\\Program Files\\JetBrains\\DataSpell 2023.1.2\\plugins\\python-ce\\helpers\\pydev\\pydevd.py:1160\u001B[0m, in \u001B[0;36mPyDB.do_wait_suspend\u001B[1;34m(self, thread, frame, event, arg, send_suspend_message, is_unhandled_exception)\u001B[0m\n\u001B[0;32m   1157\u001B[0m         from_this_thread\u001B[38;5;241m.\u001B[39mappend(frame_id)\n\u001B[0;32m   1159\u001B[0m \u001B[38;5;28;01mwith\u001B[39;00m \u001B[38;5;28mself\u001B[39m\u001B[38;5;241m.\u001B[39m_threads_suspended_single_notification\u001B[38;5;241m.\u001B[39mnotify_thread_suspended(thread_id, stop_reason):\n\u001B[1;32m-> 1160\u001B[0m     \u001B[38;5;28;43mself\u001B[39;49m\u001B[38;5;241;43m.\u001B[39;49m\u001B[43m_do_wait_suspend\u001B[49m\u001B[43m(\u001B[49m\u001B[43mthread\u001B[49m\u001B[43m,\u001B[49m\u001B[43m \u001B[49m\u001B[43mframe\u001B[49m\u001B[43m,\u001B[49m\u001B[43m \u001B[49m\u001B[43mevent\u001B[49m\u001B[43m,\u001B[49m\u001B[43m \u001B[49m\u001B[43marg\u001B[49m\u001B[43m,\u001B[49m\u001B[43m \u001B[49m\u001B[43msuspend_type\u001B[49m\u001B[43m,\u001B[49m\u001B[43m \u001B[49m\u001B[43mfrom_this_thread\u001B[49m\u001B[43m)\u001B[49m\n",
      "File \u001B[1;32mC:\\Program Files\\JetBrains\\DataSpell 2023.1.2\\plugins\\python-ce\\helpers\\pydev\\pydevd.py:1175\u001B[0m, in \u001B[0;36mPyDB._do_wait_suspend\u001B[1;34m(self, thread, frame, event, arg, suspend_type, from_this_thread)\u001B[0m\n\u001B[0;32m   1172\u001B[0m             \u001B[38;5;28mself\u001B[39m\u001B[38;5;241m.\u001B[39m_call_mpl_hook()\n\u001B[0;32m   1174\u001B[0m         \u001B[38;5;28mself\u001B[39m\u001B[38;5;241m.\u001B[39mprocess_internal_commands()\n\u001B[1;32m-> 1175\u001B[0m         \u001B[43mtime\u001B[49m\u001B[38;5;241;43m.\u001B[39;49m\u001B[43msleep\u001B[49m\u001B[43m(\u001B[49m\u001B[38;5;241;43m0.01\u001B[39;49m\u001B[43m)\u001B[49m\n\u001B[0;32m   1177\u001B[0m \u001B[38;5;28mself\u001B[39m\u001B[38;5;241m.\u001B[39mcancel_async_evaluation(get_current_thread_id(thread), \u001B[38;5;28mstr\u001B[39m(\u001B[38;5;28mid\u001B[39m(frame)))\n\u001B[0;32m   1179\u001B[0m \u001B[38;5;66;03m# process any stepping instructions\u001B[39;00m\n",
      "\u001B[1;31mKeyboardInterrupt\u001B[0m: "
     ]
    }
   ],
   "source": [
    "\n",
    "sample['deltas'] = pd.to_timedelta(sample['seconds'], unit='s')\n",
    "\n",
    "sample['deltas_adjusted'] = sample['deltas'] - sample['deltas'].iloc[0]\n",
    "\n",
    "def find_closest_dist(delt_point, deltas):\n",
    "    idx = (np.abs(deltas - delt_point)).argmin()\n",
    "    arg = deltas.iloc[(deltas - delt_point).abs().argsort()[:1]]\n",
    "    distance = (arg.item() - delt_point).total_seconds() ** 2\n",
    "    return distance\n",
    "differences = {}\n",
    "\n",
    "for i in range(50):\n",
    "    start_delt = blinks.iloc[i]['prog_left']\n",
    "    comp_delta = blinks.iloc[i:]\n",
    "    comp_delta_adjusted = comp_delta['prog_left'] - start_delt\n",
    "    min_distances = [find_closest_dist(sample_delt, comp_delta_adjusted) for sample_delt in sample['deltas_adjusted']]\n",
    "    square_dif = sum(min_distances)\n",
    "    differences[i] = square_dif\n",
    "\n",
    "print(\"...\")\n"
   ],
   "metadata": {
    "collapsed": false,
    "ExecuteTime": {
     "end_time": "2023-11-11T13:02:05.749684300Z",
     "start_time": "2023-11-11T12:58:37.165635600Z"
    }
   },
   "id": "ba19d805f32760cf"
  },
  {
   "cell_type": "code",
   "execution_count": 43,
   "outputs": [],
   "source": [
    "list_of_directories = ['data/pixie/Indoor/Participant_1/', 'data/pixie/Indoor/Participant_2/', 'data/pixie/Indoor/Participant_3/', 'data/pixie/Driving/Participant_1/', 'data/pixie/Driving/Participant_1_round2/', 'data/pixie/Driving/Participant_3/', 'data/pixie/Walking/Participant_1/', 'data/pixie/Walking/Participant_2/', 'data/pixie/Walking/Participant_3/']"
   ],
   "metadata": {
    "collapsed": false,
    "ExecuteTime": {
     "end_time": "2023-11-11T12:47:41.060267300Z",
     "start_time": "2023-11-11T12:47:41.050099Z"
    }
   },
   "id": "88ff20a06fad93da"
  },
  {
   "cell_type": "code",
   "execution_count": null,
   "outputs": [],
   "source": [
    "for data_dir in list_of_directories:\n",
    "    df = mappers.fetch_full_aef_df(directory_path)\n",
    "    df['datetime_left'] = pd.to_datetime(df['afe_left_timestamp'], unit='us')\n",
    "    print(\"---------------------------\")\n",
    "    formatted_string = \"Participant{}: 'data/pixie/Indoor/Participant_{}/'\".format(participant_number, participant_number)\n",
    "\n",
    "    print()\n",
    "    print(\"Total time: \", df['datetime_left'].iloc[-1] - df['datetime_left'].iloc[0])"
   ],
   "metadata": {
    "collapsed": false
   },
   "id": "c8894f7d4a5f953"
  },
  {
   "cell_type": "markdown",
   "source": [],
   "metadata": {
    "collapsed": false
   },
   "id": "857defd3e17502fb"
  }
 ],
 "metadata": {
  "kernelspec": {
   "display_name": "Python 3",
   "language": "python",
   "name": "python3"
  },
  "language_info": {
   "codemirror_mode": {
    "name": "ipython",
    "version": 2
   },
   "file_extension": ".py",
   "mimetype": "text/x-python",
   "name": "python",
   "nbconvert_exporter": "python",
   "pygments_lexer": "ipython2",
   "version": "2.7.6"
  }
 },
 "nbformat": 4,
 "nbformat_minor": 5
}
