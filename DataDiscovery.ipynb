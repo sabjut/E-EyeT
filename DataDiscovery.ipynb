{
 "cells": [
  {
   "cell_type": "code",
   "execution_count": 35,
   "id": "initial_id",
   "metadata": {
    "collapsed": true,
    "ExecuteTime": {
     "end_time": "2023-11-11T09:21:28.446802200Z",
     "start_time": "2023-11-11T09:21:25.622978100Z"
    }
   },
   "outputs": [],
   "source": [
    "import json\n",
    "import pandas as pd\n",
    "import mappers\n",
    "import datetime\n",
    "\n",
    "current_path = 'data/pixie/Indoor/Participant_1/AFE_000_CONFIDENTIAL.json'\n",
    "\n",
    "df_i_1_AFE = mappers.afe_to_df(current_path)\n",
    "\n",
    "\n",
    "\n"
   ]
  },
  {
   "cell_type": "code",
   "execution_count": 36,
   "outputs": [
    {
     "name": "stdout",
     "output_type": "stream",
     "text": [
      "  afe_left_t  afe_left_ticktime  afe_left_timestamp  afe_left_status  \\\n",
      "0          L            3715918    1699001623169289                0   \n",
      "1          L            3715935    1699001623185984                0   \n",
      "2          L            3715952    1699001623202679                0   \n",
      "3          L            3715968    1699001623219313                0   \n",
      "4          L            3715985    1699001623236008                0   \n",
      "\n",
      "   afe_left_counter  afe_left_m_0_0  afe_left_m_0_1  afe_left_m_0_2  \\\n",
      "0             29814           19167            6302            9952   \n",
      "1             29815           18921            6379           10077   \n",
      "2             29816           20336            6490           10175   \n",
      "3             29817           19470            6470           10321   \n",
      "4             29818           18126            6451           10424   \n",
      "\n",
      "   afe_left_m_0_3  afe_left_m_0_4  ...  auxSensors_tempEt_v_right_3  \\\n",
      "0           15459           16930  ...                    27.617188   \n",
      "1           15337           16100  ...                    27.617188   \n",
      "2           15164           16403  ...                    27.617188   \n",
      "3           15038           16668  ...                    27.617188   \n",
      "4           15035           17033  ...                    27.617188   \n",
      "\n",
      "  blinks_left_peakTime  blinks_left_index  blinks_left_beginTime  \\\n",
      "0                  NaN                NaN                    NaN   \n",
      "1                  NaN                NaN                    NaN   \n",
      "2                  NaN                NaN                    NaN   \n",
      "3                  NaN                NaN                    NaN   \n",
      "4                  NaN                NaN                    NaN   \n",
      "\n",
      "   blinks_left_endTime  blinks_right_peakTime  blinks_right_beginTime  \\\n",
      "0                  NaN                    NaN                     NaN   \n",
      "1                  NaN                    NaN                     NaN   \n",
      "2                  NaN                    NaN                     NaN   \n",
      "3                  NaN                    NaN                     NaN   \n",
      "4                  NaN                    NaN                     NaN   \n",
      "\n",
      "   blinks_right_endTime  blinks_right_index  labels_0  \n",
      "0                   NaN                 NaN       NaN  \n",
      "1                   NaN                 NaN       NaN  \n",
      "2                   NaN                 NaN       NaN  \n",
      "3                   NaN                 NaN       NaN  \n",
      "4                   NaN                 NaN       NaN  \n",
      "\n",
      "[5 rows x 73 columns]\n"
     ]
    }
   ],
   "source": [
    "print(df_i_1_AFE.head())\n"
   ],
   "metadata": {
    "collapsed": false,
    "ExecuteTime": {
     "end_time": "2023-11-11T09:21:34.092409Z",
     "start_time": "2023-11-11T09:21:34.084363800Z"
    }
   },
   "id": "b21e9c9d7f0a7423"
  },
  {
   "cell_type": "code",
   "execution_count": null,
   "outputs": [],
   "source": [
    "first_timestamp = df_i_1_AFE['timestamp'].iloc[0]\n",
    "date = datetime.strptime(custom_timestamp, '%Y%m%d%H%M%S')\n"
   ],
   "metadata": {
    "collapsed": false
   },
   "id": "c767145cf2b8725e"
  }
 ],
 "metadata": {
  "kernelspec": {
   "display_name": "Python 3",
   "language": "python",
   "name": "python3"
  },
  "language_info": {
   "codemirror_mode": {
    "name": "ipython",
    "version": 2
   },
   "file_extension": ".py",
   "mimetype": "text/x-python",
   "name": "python",
   "nbconvert_exporter": "python",
   "pygments_lexer": "ipython2",
   "version": "2.7.6"
  }
 },
 "nbformat": 4,
 "nbformat_minor": 5
}
